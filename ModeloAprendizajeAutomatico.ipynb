{
 "cells": [
  {
   "attachments": {},
   "cell_type": "markdown",
   "metadata": {},
   "source": [
    "Ejercicio: Entrene y ejecute su primer modelo<br>\n",
    "Hemos aprendido que los modelos son códigos informáticos que procesan información para hacer una predicción o tomar una decisión. Aquí, entrenaremos un modelo para adivinar una talla de bota cómoda para un perro, basándonos en la talla del arnés que le queda.\n",
    "\n",
    "En los ejemplos siguientes, no es necesario editar ningún código. Intenta leerlo, entenderlo y, a continuación, pulsa el botón de ejecución para ejecutarlo. Como siempre con estos cuadernos, es de vital importancia que estos bloques de código se ejecuten en el orden correcto, y no se pierda nada."
   ]
  },
  {
   "attachments": {},
   "cell_type": "markdown",
   "metadata": {},
   "source": [
    "Preparar los datos\n",
    "Lo primero que hacemos con un modelo es cargar los datos. Cubriremos esto con más detalle en un ejercicio posterior. Por ahora, escribiremos nuestros datos directamente en nuestro código. Revisa y ejecuta el siguiente código para empezar:"
   ]
  },
  {
   "cell_type": "code",
   "execution_count": null,
   "metadata": {},
   "outputs": [],
   "source": [
    "import pandas\n",
    "!wget https://raw.githubusercontent.com/MicrosoftDocs/mslearn-introduction-to-machine-learning/main/graphing.py\n",
    "!wget https://raw.githubusercontent.com/MicrosoftDocs/mslearn-introduction-to-machine-learning/main/Data/doggy-boot-harness.csv\n",
    "!pip install statsmodels\n",
    "\n",
    "\n",
    "# Make a dictionary of data for boot sizes\n",
    "# and harness size in cm\n",
    "data = {\n",
    "    'boot_size' : [ 39, 38, 37, 39, 38, 35, 37, 36, 35, 40, \n",
    "                    40, 36, 38, 39, 42, 42, 36, 36, 35, 41, \n",
    "                    42, 38, 37, 35, 40, 36, 35, 39, 41, 37, \n",
    "                    35, 41, 39, 41, 42, 42, 36, 37, 37, 39,\n",
    "                    42, 35, 36, 41, 41, 41, 39, 39, 35, 39\n",
    " ],\n",
    "    'harness_size': [ 58, 58, 52, 58, 57, 52, 55, 53, 49, 54,\n",
    "                59, 56, 53, 58, 57, 58, 56, 51, 50, 59,\n",
    "                59, 59, 55, 50, 55, 52, 53, 54, 61, 56,\n",
    "                55, 60, 57, 56, 61, 58, 53, 57, 57, 55,\n",
    "                60, 51, 52, 56, 55, 57, 58, 57, 51, 59\n",
    "                ]\n",
    "}\n",
    "\n",
    "# Convert it into a table using pandas\n",
    "dataset = pandas.DataFrame(data)\n",
    "\n",
    "# Print the data\n",
    "# In normal python we would write\n",
    "# print(dataset)\n",
    "# but in Jupyter notebooks, if we simple write the name\n",
    "# of the variable and it is printed nicely \n",
    "dataset"
   ]
  },
  {
   "attachments": {},
   "cell_type": "markdown",
   "metadata": {},
   "source": [
    "Como puede ver, tenemos las tallas de botas y arneses para 50 perros de avalancha.\n",
    "\n",
    "Queremos utilizar el tamaño del arnés para estimar el tamaño de la bota. Esto significa que el tamaño del arnés es nuestra entrada. Queremos un modelo que procese la entrada y haga sus propias estimaciones del tamaño de la bota (salida).\n",
    "\n",
    "Seleccionar un modelo\n",
    "Lo primero que debemos hacer es seleccionar un modelo. Estamos empezando, así que comenzaremos con un modelo muy simple llamado OLS. Esto es sólo una línea recta (a veces llamada línea de tendencia).\n",
    "\n",
    "Vamos a utilizar una biblioteca existente para crear nuestro modelo, pero no lo entrenaremos todavía."
   ]
  },
  {
   "cell_type": "code",
   "execution_count": null,
   "metadata": {},
   "outputs": [],
   "source": [
    "# Load a library to do the hard work for us\n",
    "import statsmodels.formula.api as smf\n",
    "\n",
    "# First, we define our formula using a special syntax\n",
    "# This says that boot_size is explained by harness_size\n",
    "formula = \"boot_size ~ harness_size\"\n",
    "\n",
    "# Create the model, but don't train it yet\n",
    "model = smf.ols(formula = formula, data = dataset)\n",
    "\n",
    "# Note that we have created our model but it does not \n",
    "# have internal parameters set yet\n",
    "if not hasattr(model, 'params'):\n",
    "    print(\"Model selected but it does not have parameters set. We need to train it!\")"
   ]
  },
  {
   "attachments": {},
   "cell_type": "markdown",
   "metadata": {},
   "source": [
    "Entrenar nuestro modelo\n",
    "Los modelos OLS tienen dos parámetros (una pendiente y un desplazamiento), pero aún no se han establecido en nuestro modelo. Necesitamos entrenar (ajustar) nuestro modelo para encontrar estos valores para que el modelo pueda estimar de forma fiable el tamaño de las botas de los perros basándose en el tamaño de su arnés.\n",
    "\n",
    "El siguiente código ajusta nuestro modelo a los datos que has visto:"
   ]
  },
  {
   "cell_type": "code",
   "execution_count": null,
   "metadata": {},
   "outputs": [],
   "source": [
    "# Load some libraries to do the hard work for us\n",
    "import graphing \n",
    "\n",
    "# Train (fit) the model so that it creates a line that \n",
    "# fits our data. This method does the hard work for\n",
    "# us. We will look at how this method works in a later unit.\n",
    "fitted_model = model.fit()\n",
    "\n",
    "# Print information about our model now it has been fit\n",
    "print(\"The following model parameters have been found:\\n\" +\n",
    "        f\"Line slope: {fitted_model.params[1]}\\n\"+\n",
    "        f\"Line Intercept: {fitted_model.params[0]}\")"
   ]
  },
  {
   "attachments": {},
   "cell_type": "markdown",
   "metadata": {},
   "source": [
    "Observa cómo el entrenamiento del modelo establece sus parámetros. Podríamos interpretarlos directamente, pero es más sencillo verlo como un gráfico:"
   ]
  },
  {
   "cell_type": "code",
   "execution_count": null,
   "metadata": {},
   "outputs": [],
   "source": [
    "import graphing\n",
    "\n",
    "# Show a graph of the result\n",
    "# Don't worry about how this works for now\n",
    "graphing.scatter_2D(dataset,    label_x=\"harness_size\", \n",
    "                                label_y=\"boot_size\",\n",
    "                                trendline=lambda x: fitted_model.params[1] * x + fitted_model.params[0]\n",
    "                                )"
   ]
  },
  {
   "attachments": {},
   "cell_type": "markdown",
   "metadata": {},
   "source": [
    "El gráfico anterior muestra nuestros datos originales en forma de círculos con una línea roja que los atraviesa. La línea roja muestra nuestro modelo.\n",
    "\n",
    "Podemos observar esta línea para entender nuestro modelo. Por ejemplo, podemos ver que a medida que aumenta el tamaño del arnés, también lo hará el tamaño estimado de la bota.\n",
    "\n",
    "Utilizar el modelo<br>\n",
    "Ahora que hemos terminado el entrenamiento, podemos utilizar nuestro modelo para predecir el tamaño de las botas de un perro a partir del tamaño de su arnés.\n",
    "\n",
    "Por ejemplo, observando la línea roja, podemos ver que una talla de arnés de 52,5 (eje x) corresponde a una talla de bota de aproximadamente 36,5 (eje y).\n",
    "\n",
    "Pero no tenemos que hacerlo a ojo. Podemos utilizar el modelo de nuestro programa para predecir cualquier talla de bota que queramos. Ejecute el siguiente código para ver cómo podemos utilizar nuestro modelo ahora que está entrenado:"
   ]
  },
  {
   "cell_type": "code",
   "execution_count": null,
   "metadata": {},
   "outputs": [],
   "source": [
    "# harness_size states the size of the harness we are interested in\n",
    "harness_size = { 'harness_size' : [52.5] }\n",
    "\n",
    "# Use the model to predict what size of boots the dog will fit\n",
    "approximate_boot_size = fitted_model.predict(harness_size)\n",
    "\n",
    "# Print the result\n",
    "print(\"Estimated approximate_boot_size:\")\n",
    "print(approximate_boot_size[0])"
   ]
  },
  {
   "attachments": {},
   "cell_type": "markdown",
   "metadata": {},
   "source": [
    "Si lo desea, cambie el valor de 52,5 en harness_size por un nuevo valor y ejecute el bloque anterior para ver el modelo en acción.\n",
    "\n",
    "Resumen<br>\n",
    "Ya está. Ha entrenado su primer modelo. Hemos demostrado algunos temas aquí sin una explicación detallada con el fin de obtener sus pies mojados. En unidades posteriores, explicaremos muchos de estos temas con más detalle."
   ]
  }
 ],
 "metadata": {
  "language_info": {
   "name": "python"
  },
  "orig_nbformat": 4
 },
 "nbformat": 4,
 "nbformat_minor": 2
}
