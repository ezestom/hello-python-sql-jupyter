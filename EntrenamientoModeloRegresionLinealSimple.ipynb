{
 "cells": [
  {
   "attachments": {},
   "cell_type": "markdown",
   "metadata": {},
   "source": [
    "Ejercicio: entrenar un modelo de regresión lineal simple\n",
    "\n",
    "En este ejercicio, entrenaremos un modelo de regresión lineal simple para predecir la temperatura corporal en función de la edad del perro e interpretaremos el resultado.\n",
    "\n",
    "Cargando datos\n",
    "Empecemos echando un vistazo a nuestros datos."
   ]
  },
  {
   "cell_type": "code",
   "execution_count": null,
   "metadata": {},
   "outputs": [],
   "source": [
    "import pandas\n",
    "!pip install statsmodels\n",
    "!wget https://raw.githubusercontent.com/MicrosoftDocs/mslearn-introduction-to-machine-learning/main/graphing.py\n",
    "!wget https://raw.githubusercontent.com/MicrosoftDocs/mslearn-introduction-to-machine-learning/main/Data/doggy-illness.csv\n",
    "\n",
    "# Convert it into a table using pandas\n",
    "dataset = pandas.read_csv(\"doggy-illness.csv\", delimiter=\"\\t\")\n",
    "\n",
    "# Print the data\n",
    "print(dataset)"
   ]
  },
  {
   "attachments": {},
   "cell_type": "markdown",
   "metadata": {},
   "source": [
    "Tenemos una variedad de información, que incluye lo que hicieron los perros la noche anterior, su edad, si tienen sobrepeso y sus signos clínicos. En este ejercicio, nuestros valores y, o etiquetas, están representados por la columna core_temperature, mientras que nuestra característica será la edad, en años.\n",
    "\n",
    "Visualización de datos\n",
    "Echemos un vistazo a cómo se distribuyen las características y las etiquetas."
   ]
  },
  {
   "cell_type": "code",
   "execution_count": null,
   "metadata": {},
   "outputs": [],
   "source": [
    "import graphing\n",
    "\n",
    "graphing.histogram(dataset, label_x='age', nbins=10, title=\"Feature\", show=True)\n",
    "graphing.histogram(dataset, label_x='core_temperature', nbins=10, title=\"Label\")"
   ]
  },
  {
   "attachments": {},
   "cell_type": "markdown",
   "metadata": {},
   "source": [
    "Mirando nuestra característica (edad), podemos ver que los perros tenían 9 años o menos, y las edades están distribuidas uniformemente. En otras palabras, ninguna edad en particular es sustancialmente más común que otra.\n",
    "\n",
    "Mirando nuestra etiqueta (core_temperature), la mayoría de los perros parecen tener una temperatura central ligeramente elevada (normalmente esperaríamos ~37.5 grados centígrados), lo que indica que no se encuentran bien. Un pequeño número de perros tienen una temperatura superior a los 40 grados, lo que indica que no se encuentran bien.\n",
    "\n",
    "Simplemente porque la forma de estas distribuciones es diferente, podemos suponer que la característica no podrá predecir la etiqueta muy bien. Por ejemplo, si la vejez predijera perfectamente quién tendría fiebre alta, entonces el número de perros viejos coincidiría exactamente con el número de perros con fiebre alta.\n",
    "\n",
    "Sin embargo, el modelo podría terminar siendo útil, así que continuemos.\n",
    "\n",
    "El siguiente paso es observar la relación. Permite trazar la relación entre las etiquetas y las características.\n",
    "\n"
   ]
  },
  {
   "cell_type": "code",
   "execution_count": null,
   "metadata": {},
   "outputs": [],
   "source": [
    "graphing.scatter_2D(dataset, label_x=\"age\", label_y=\"core_temperature\", title='core temperature as a function of age')"
   ]
  },
  {
   "attachments": {},
   "cell_type": "markdown",
   "metadata": {},
   "source": [
    "Parece que los perros mayores tienden a tener temperaturas más altas que los perros más jóvenes. Sin embargo, la relación es bastante \"ruidosa\": muchos perros de la misma edad tienen temperaturas bastante diferentes.\n",
    "\n",
    "Regresión lineal simple\n",
    "Examinemos formalmente la relación entre nuestras etiquetas y características ajustando una línea (modelo de regresión lineal simple) al conjunto de datos."
   ]
  },
  {
   "cell_type": "code",
   "execution_count": null,
   "metadata": {},
   "outputs": [],
   "source": [
    "import statsmodels.formula.api as smf\n",
    "import graphing # custom graphing code. See our GitHub repo for details\n",
    "\n",
    "# First, we define our formula using a special syntax\n",
    "# This says that core temperature is explained by age\n",
    "formula = \"core_temperature ~ age\"\n",
    "\n",
    "# Perform linear regression. This method takes care of\n",
    "# the entire fitting procedure for us.\n",
    "model = smf.ols(formula = formula, data = dataset).fit()\n",
    "\n",
    "# Show a graph of the result\n",
    "graphing.scatter_2D(dataset,    label_x=\"age\", \n",
    "                                label_y=\"core_temperature\",\n",
    "                                trendline=lambda x: model.params[1] * x + model.params[0]\n",
    "                                )"
   ]
  },
  {
   "attachments": {},
   "cell_type": "markdown",
   "metadata": {},
   "source": [
    "La línea parece ajustarse bastante bien a los datos, lo que valida nuestra hipótesis de que existe una correlación positiva entre la edad de un perro y su temperatura central.\n",
    "\n",
    "Interpretando nuestro modelo\n",
    "Visualmente, la regresión lineal simple es fácil de entender. Sin embargo, recapitulemos sobre lo que significan los parámetros."
   ]
  },
  {
   "cell_type": "code",
   "execution_count": null,
   "metadata": {},
   "outputs": [],
   "source": [
    "print(\"Intercept:\", model.params[0], \"Slope:\", model.params[1])"
   ]
  },
  {
   "attachments": {},
   "cell_type": "markdown",
   "metadata": {},
   "source": [
    "Recuerde que los modelos de regresión lineal simple se explican por la intersección de la línea y la pendiente de la línea.\n",
    "\n",
    "Aquí, nuestra intercepción es de 38 grados centígrados. Esto significa que cuando la edad sea 0, el modelo predecirá 38 grados.\n",
    "\n",
    "Nuestra pendiente es de 0,15 grados centígrados, lo que significa que por cada año de edad, el modelo pronosticará temperaturas 0,15 grados más altas.\n",
    "\n",
    "En el cuadro a continuación, intente cambiar la edad a algunos valores diferentes para ver predicciones diferentes y compárelas con la línea en el gráfico anterior."
   ]
  },
  {
   "cell_type": "code",
   "execution_count": null,
   "metadata": {},
   "outputs": [],
   "source": [
    "def estimate_temperature(age):\n",
    "    # Model param[0] is the intercepts and param[1] is the slope\n",
    "    return age * model.params[1] + model.params[0]\n",
    "\n",
    "print(\"Estimate temperature from age\")\n",
    "print(estimate_temperature(age=0))"
   ]
  },
  {
   "attachments": {},
   "cell_type": "markdown",
   "metadata": {},
   "source": [
    "Resumen\n",
    "\n",
    "Cubrimos los siguientes conceptos en este ejercicio:\n",
    "\n",
    "Visualización rápida de un conjunto de datos\n",
    "Evaluación cualitativa de una relación lineal\n",
    "Cree un modelo de regresión lineal simple\n",
    "Comprender los parámetros de un modelo de regresión lineal simple"
   ]
  }
 ],
 "metadata": {
  "language_info": {
   "name": "python"
  },
  "orig_nbformat": 4
 },
 "nbformat": 4,
 "nbformat_minor": 2
}
