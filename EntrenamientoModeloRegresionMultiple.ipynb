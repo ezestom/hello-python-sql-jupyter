{
 "cells": [
  {
   "attachments": {},
   "cell_type": "markdown",
   "metadata": {},
   "source": [
    "Ejercicio: Entrenar un modelo de regresión lineal múltiple\n",
    "\n",
    "En este ejercicio, entrenaremos tanto un modelo de regresión lineal simple como un modelo de regresión lineal múltiple, y compararemos su rendimiento utilizando R-Cuadrado.\n",
    "\n",
    "Carga de datos\n",
    "Empecemos por echar un vistazo a nuestros datos."
   ]
  },
  {
   "cell_type": "code",
   "execution_count": null,
   "metadata": {},
   "outputs": [],
   "source": [
    "import pandas\n",
    "!pip install statsmodels\n",
    "!wget https://raw.githubusercontent.com/MicrosoftDocs/mslearn-introduction-to-machine-learning/main/graphing.py\n",
    "!wget https://raw.githubusercontent.com/MicrosoftDocs/mslearn-introduction-to-machine-learning/main/Data/doggy-illness.csv\n",
    "\n",
    "#Import the data from the .csv file\n",
    "dataset = pandas.read_csv('doggy-illness.csv', delimiter=\"\\t\")\n",
    "\n",
    "#Let's have a look at the data\n",
    "dataset"
   ]
  },
  {
   "attachments": {},
   "cell_type": "markdown",
   "metadata": {},
   "source": [
    "En este ejercicio intentaremos predecir la temperatura del núcleo a partir de otras características disponibles.\n",
    "\n",
    "Visualización de datos\n",
    "Veamos rápidamente qué características parecen tener algún tipo de relación con la temperatura_del_núcleo"
   ]
  },
  {
   "cell_type": "code",
   "execution_count": null,
   "metadata": {},
   "outputs": [],
   "source": [
    "import graphing # Custom graphing code that uses Plotly. See our GitHub repository for details\n",
    "\n",
    "graphing.box_and_whisker(dataset, \"male\", \"core_temperature\", show=True)\n",
    "graphing.box_and_whisker(dataset, \"attended_training\", \"core_temperature\", show=True)\n",
    "graphing.box_and_whisker(dataset, \"ate_at_tonys_steakhouse\", \"core_temperature\", show=True)\n",
    "graphing.scatter_2D(dataset, \"body_fat_percentage\", \"core_temperature\", show=True)\n",
    "graphing.scatter_2D(dataset, \"protein_content_of_last_meal\", \"core_temperature\", show=True)\n",
    "graphing.scatter_2D(dataset, \"age\", \"core_temperature\")"
   ]
  },
  {
   "attachments": {},
   "cell_type": "markdown",
   "metadata": {},
   "source": [
    "A simple vista, los perros más gordos, viejos y machos parecen tener temperaturas más altas que los perros más delgados, jóvenes o hembras. Los perros que comieron muchas proteínas la noche anterior también parecen encontrarse peor. Las demás características no parecen especialmente útiles.\n",
    "\n",
    "Regresión lineal simple\n",
    "Intentemos predecir la temperatura_del_núcleo mediante regresión lineal simple y observemos la R-cuadrado de estas relaciones."
   ]
  },
  {
   "cell_type": "code",
   "execution_count": null,
   "metadata": {},
   "outputs": [],
   "source": [
    "import statsmodels.formula.api as smf\n",
    "import graphing # custom graphing code. See our GitHub repo for details\n",
    "\n",
    "for feature in [\"male\", \"age\", \"protein_content_of_last_meal\", \"body_fat_percentage\"]:\n",
    "    # Perform linear regression. This method takes care of\n",
    "    # the entire fitting procedure for us.\n",
    "    formula = \"core_temperature ~ \" + feature\n",
    "    simple_model = smf.ols(formula = formula, data = dataset).fit()\n",
    "\n",
    "    print(feature)\n",
    "    print(\"R-squared:\", simple_model.rsquared)\n",
    "    \n",
    "    # Show a graph of the result\n",
    "    graphing.scatter_2D(dataset, label_x=feature, \n",
    "                                 label_y=\"core_temperature\",\n",
    "                                 title = feature,\n",
    "                                 trendline=lambda x: simple_model.params[1] * x + simple_model.params[0],\n",
    "                                 show=True)"
   ]
  },
  {
   "attachments": {},
   "cell_type": "markdown",
   "metadata": {},
   "source": [
    "Al desplazarnos por estos gráficos, obtenemos valores R-cuadrado de 0,0002 (porcentaje_grasa_corporal), 0,1 (varón) y 0,26 (edad).\n",
    "\n",
    "Aunque protein_content_of_last_meal también parece muy prometedora, la relación parece curva, no lineal. Dejaremos esta función por ahora y volveremos a ella en el próximo ejercicio."
   ]
  },
  {
   "attachments": {},
   "cell_type": "markdown",
   "metadata": {},
   "source": [
    "R-Cuadrado\n",
    "Hemos mostrado el valor R-cuadrado de estos modelos y lo hemos utilizado como medida de \"corrección\" de nuestra regresión, pero ¿qué es?\n",
    "\n",
    "Intuitivamente, podemos pensar en R-cuadrado como un cociente de cuánto mejor es nuestra línea de regresión que una regresión ingenua que simplemente pasa por la media de todos los ejemplos. A grandes rasgos, el R-cuadrado se calcula tomando la pérdida/error del modelo entrenado y dividiéndola por la pérdida/error del modelo ingenuo. Eso da un rango en el que 0 es mejor y 1 es peor, así que se resta todo de 1 para dar la vuelta a esos resultados.\n",
    "\n",
    "A continuación, mostramos una vez más el gráfico de dispersión con la edad y la temperatura_del_núcleo, pero esta vez, mostramos dos líneas de regresión. La primera es la línea ingenua que pasa directamente por la media. Esto tiene un R-cuadrado de 0 (ya que no es mejor que sí mismo). Un R-Cuadrado de 1 sería una línea que se ajustara perfectamente a cada ejemplo de entrenamiento. El segundo gráfico muestra nuestra línea de regresión entrenada y una vez más vemos su R-Cuadrado."
   ]
  },
  {
   "cell_type": "code",
   "execution_count": null,
   "metadata": {},
   "outputs": [],
   "source": [
    "formula = \"core_temperature ~ age\"\n",
    "age_trained_model = smf.ols(formula = formula, data = dataset).fit()\n",
    "age_naive_model = smf.ols(formula = formula, data = dataset).fit()\n",
    "age_naive_model.params[0] = dataset['core_temperature'].mean()\n",
    "age_naive_model.params[1] = 0\n",
    "\n",
    "print(\"naive R-squared:\", age_naive_model.rsquared)\n",
    "print(\"trained R-squared:\", age_trained_model.rsquared)\n",
    "\n",
    "# Show a graph of the result\n",
    "graphing.scatter_2D(dataset, label_x=\"age\", \n",
    "                                label_y=\"core_temperature\",\n",
    "                                title = \"Naive model\",\n",
    "                                trendline=lambda x: dataset['core_temperature'].repeat(len(x)), \n",
    "                                show=True)\n",
    "# Show a graph of the result\n",
    "graphing.scatter_2D(dataset, label_x=\"age\", \n",
    "                                label_y=\"core_temperature\",\n",
    "                                title = \"Trained model\",\n",
    "                                trendline=lambda x: age_trained_model.params[1] * x + age_trained_model.params[0])\n",
    "\n"
   ]
  },
  {
   "attachments": {},
   "cell_type": "markdown",
   "metadata": {},
   "source": [
    "Regresión lineal múltiple\n",
    "\n",
    "En lugar de modelarlos por separado, vamos a intentar combinarlos en un único modelo. La grasa corporal no parecía ser útil después de todo, así que vamos a utilizar sólo el sexo masculino y la edad como características."
   ]
  },
  {
   "cell_type": "code",
   "execution_count": null,
   "metadata": {},
   "outputs": [],
   "source": [
    "model = smf.ols(formula = \"core_temperature ~ age + male\", data = dataset).fit()\n",
    "\n",
    "print(\"R-squared:\", model.rsquared)"
   ]
  },
  {
   "attachments": {},
   "cell_type": "markdown",
   "metadata": {},
   "source": [
    "Al utilizar ambas características al mismo tiempo, obtuvimos un resultado mejor que cualquiera de los modelos de una sola característica (univariante).\n",
    "\n",
    "¿Cómo podemos ver esto? Pues bien, una regresión lineal simple se dibuja en 2d. Si trabajamos con una variable adicional, añadimos una dimensión y trabajamos en 3D."
   ]
  },
  {
   "cell_type": "code",
   "execution_count": null,
   "metadata": {},
   "outputs": [],
   "source": [
    "import numpy as np\n",
    "# Show a graph of the result\n",
    "# this needs to be 3D, because we now have three variables in play: two features and one label\n",
    "\n",
    "def predict(age, male):\n",
    "    '''\n",
    "    This converts given age and male values into a prediction from the model\n",
    "    '''\n",
    "    # to make a prediction with statsmodels, we need to provide a dataframe\n",
    "    # so create a dataframe with just the age and male variables\n",
    "    df = pandas.DataFrame(dict(age=[age], male=[male]))\n",
    "    return model.predict(df)\n",
    "\n",
    "# Create the surface graph\n",
    "fig = graphing.surface(\n",
    "    x_values=np.array([min(dataset.age), max(dataset.age)]),\n",
    "    y_values=np.array([0, 1]),\n",
    "    calc_z=predict,\n",
    "    axis_title_x=\"Age\",\n",
    "    axis_title_y=\"Male\",\n",
    "    axis_title_z=\"Core temperature\"\n",
    ")\n",
    "\n",
    "# Add our datapoints to it and display\n",
    "fig.add_scatter3d(x=dataset.age, y=dataset.male, z=dataset.core_temperature, mode='markers')\n",
    "fig.show()"
   ]
  },
  {
   "attachments": {},
   "cell_type": "markdown",
   "metadata": {},
   "source": [
    "El gráfico anterior es interactivo. Intente girarlo para ver cómo el modelo (mostrado como un plano sólido) predeciría la temperatura central a partir de diferentes combinaciones de edad y sexo.\n",
    "\n",
    "Inspeccionar nuestro modelo\n",
    "Cuando tenemos más de dos características, resulta muy difícil visualizar estos modelos. Normalmente tenemos que mirar los parámetros directamente. Hagámoslo ahora. Statsmodels, una de las bibliotecas habituales de aprendizaje automático y estadística, ofrece un método summary() que proporciona información sobre nuestro modelo."
   ]
  },
  {
   "cell_type": "code",
   "execution_count": null,
   "metadata": {},
   "outputs": [],
   "source": [
    "# Print summary information\n",
    "model.summary()"
   ]
  },
  {
   "attachments": {},
   "cell_type": "markdown",
   "metadata": {},
   "source": [
    "Si nos fijamos en la esquina superior derecha, podemos ver nuestra estadística R-cuadrado que imprimimos anteriormente.\n",
    "\n",
    "Un poco más abajo y a la izquierda, también podemos ver información sobre los datos con los que hemos entrenado nuestro modelo. Por ejemplo, podemos ver que lo hemos entrenado con 98 observaciones (Nº Observaciones).\n",
    "\n",
    "Debajo encontramos información sobre nuestros parámetros, en una columna llamada coef (que significa coeficientes, un sinónimo de parámetros en el aprendizaje automático). Aquí podemos ver que el intercepto era de aproximadamente 38 - lo que significa que el modelo predice una temperatura central de 38 para un perro con edad=0 y macho=0. Debajo de esto vemos que el parámetro para la edad es 0,14, lo que significa que por cada año adicional de edad, la temperatura predicha aumentaría 0,14 grados centígrados. Para el macho, podemos ver un parámetro de 0,32, lo que significa que el modelo estima que todos los perros (es decir, donde macho == 1) tienen temperaturas 0,32 grados celsius más altas que las hembras (es decir, donde macho == 0).\n",
    "\n",
    "Aunque no tenemos espacio aquí para entrar en detalles, la columna P también es muy útil. Nos indica el grado de confianza del modelo en el valor de este parámetro. Como regla general, si el valor p es inferior a 0,05, hay muchas posibilidades de que esta relación sea fiable. Por ejemplo, aquí tanto la edad como el sexo masculino son inferiores a 0,05, por lo que podemos confiar en el uso de este modelo en el mundo real.\n",
    "\n",
    "Como ejercicio final, hagamos lo mismo con nuestro anterior modelo de regresión lineal simple, relacionando la edad con la temperatura_del_corazón. Lee la siguiente tabla y comprueba lo que puedes deducir de este modelo."
   ]
  },
  {
   "cell_type": "code",
   "execution_count": null,
   "metadata": {},
   "outputs": [],
   "source": [
    "age_trained_model.summary()"
   ]
  },
  {
   "attachments": {},
   "cell_type": "markdown",
   "metadata": {},
   "source": [
    "Resumen\n",
    "\n",
    "Cubrimos los siguientes conceptos en este ejercicio:\n",
    "\n",
    "Construir modelos de regresión lineal simple y múltiple.\n",
    "Compare el rendimiento de ambos modelos observando los valores R-Squared.\n",
    "Modelos inspeccionados para entender cómo funcionan."
   ]
  }
 ],
 "metadata": {
  "language_info": {
   "name": "python"
  },
  "orig_nbformat": 4
 },
 "nbformat": 4,
 "nbformat_minor": 2
}
