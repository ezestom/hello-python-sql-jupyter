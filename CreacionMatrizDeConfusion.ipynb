{
 "cells": [
  {
   "attachments": {},
   "cell_type": "markdown",
   "metadata": {},
   "source": [
    "Ejercicio: construir una matriz de confusión\n",
    "\n",
    "En este ejercicio, profundizamos en la medición del rendimiento de los modelos de clasificación, utilizando los conceptos de conjuntos de datos desequilibrados, precisión y matrices de confusión.\n",
    "\n",
    "Visualización de datos\n",
    "Nuestro nuevo conjunto de datos representa diferentes clases de objetos que se encuentran en la nieve.\n",
    "\n",
    "Comencemos este ejercicio cargando y echando un vistazo a nuestros datos:"
   ]
  },
  {
   "cell_type": "code",
   "execution_count": null,
   "metadata": {},
   "outputs": [],
   "source": [
    "import pandas\n",
    "!wget https://raw.githubusercontent.com/MicrosoftDocs/mslearn-introduction-to-machine-learning/main/graphing.py\n",
    "!wget https://raw.githubusercontent.com/MicrosoftDocs/mslearn-introduction-to-machine-learning/main/Data/snow_objects.csv\n",
    "\n",
    "#Import the data from the .csv file\n",
    "dataset = pandas.read_csv('snow_objects.csv', delimiter=\"\\t\")\n",
    "\n",
    "#Let's have a look at the data\n",
    "dataset"
   ]
  },
  {
   "attachments": {},
   "cell_type": "markdown",
   "metadata": {},
   "source": [
    "Exploración de datos\n",
    "\n",
    "Podemos ver que el conjunto de datos tiene datos continuos (tamaño, rugosidad, movimiento) y categóricos (color y etiqueta). Hagamos una exploración rápida de datos y veamos qué diferentes clases de etiquetas tenemos y sus respectivos conteos:"
   ]
  },
  {
   "cell_type": "code",
   "execution_count": null,
   "metadata": {},
   "outputs": [],
   "source": [
    "import graphing # custom graphing code. See our GitHub repo for details\n",
    "\n",
    "# Plot a histogram with counts for each label\n",
    "graphing.multiple_histogram(dataset, label_x=\"label\", label_group=\"label\", title=\"Label distribution\")"
   ]
  },
  {
   "attachments": {},
   "cell_type": "markdown",
   "metadata": {},
   "source": [
    "El histograma de arriba hace que sea muy fácil entender tanto las etiquetas que tenemos en el conjunto de datos como su distribución.\n",
    "\n",
    "Una información importante a tener en cuenta es que este es un conjunto de datos desequilibrado: las clases no están representadas en la misma proporción (tenemos 4 veces más rocas y árboles que animales, por ejemplo).\n",
    "\n",
    "Esto es relevante ya que los conjuntos desequilibrados son muy comunes \"en la naturaleza\", y en el futuro aprenderemos cómo abordar eso para construir mejores modelos.\n",
    "\n",
    "Podemos hacer el mismo análisis para la función de color:"
   ]
  },
  {
   "cell_type": "code",
   "execution_count": null,
   "metadata": {},
   "outputs": [],
   "source": [
    "# Plot a histogram with counts for each label\n",
    "graphing.multiple_histogram(dataset, label_x=\"color\", label_group=\"color\", title=\"Color distribution\")"
   ]
  },
  {
   "attachments": {},
   "cell_type": "markdown",
   "metadata": {},
   "source": [
    "Podemos notar que:\n",
    "\n",
    "Tenemos 8 categorías de colores diferentes.<br>\n",
    "La función de color también está muy desequilibrada.<br>\n",
    "El algoritmo de trazado no es lo suficientemente inteligente como para asignar los colores correctos a sus respectivos nombres.<br>\n",
    "Veamos qué podemos encontrar sobre las otras características:"
   ]
  },
  {
   "cell_type": "code",
   "execution_count": null,
   "metadata": {},
   "outputs": [],
   "source": [
    "graphing.box_and_whisker(dataset, label_y=\"size\", title='Boxplot of \"size\" feature')"
   ]
  },
  {
   "attachments": {},
   "cell_type": "markdown",
   "metadata": {},
   "source": [
    "Arriba podemos ver que la mayoría de nuestras muestras son relativamente pequeñas, con tamaños que van de 0 a 70, pero tenemos algunos valores atípicos mucho más grandes.\n",
    "\n",
    "Echemos un vistazo a la función de rugosidad:"
   ]
  },
  {
   "cell_type": "code",
   "execution_count": null,
   "metadata": {},
   "outputs": [],
   "source": [
    "graphing.box_and_whisker(dataset, label_y=\"roughness\", title='Boxplot of \"roughness\" feature')"
   ]
  },
  {
   "attachments": {},
   "cell_type": "markdown",
   "metadata": {},
   "source": [
    "No hay mucha variación aquí: los valores de rugosidad oscilan entre 0 y un poco más de 2, y la mayoría de las muestras tienen valores cercanos a la media.\n",
    "\n",
    "Finalmente, tracemos la función de movimiento:"
   ]
  },
  {
   "cell_type": "code",
   "execution_count": null,
   "metadata": {},
   "outputs": [],
   "source": [
    "graphing.box_and_whisker(dataset, label_y=\"motion\", title='Boxplot of \"motion\" feature')"
   ]
  },
  {
   "attachments": {},
   "cell_type": "markdown",
   "metadata": {},
   "source": [
    "La mayoría de los objetos parecen estar estáticos o moverse muy lentamente. Hay una cantidad menor de objetos que se mueven más rápido, con un par de valores atípicos por encima de 10.\n",
    "\n",
    "A partir de los datos anteriores, se podría suponer que los objetos más pequeños y rápidos son probablemente excursionistas y animales, mientras que los elementos más grandes y estáticos son árboles y rocas.\n",
    "\n",
    "Construcción de un modelo de clasificación\n",
    "\n",
    "Construyamos y entrenemos un modelo de clasificación utilizando un bosque aleatorio, para predecir la clase de un objeto en función de las características de nuestro conjunto de datos:"
   ]
  },
  {
   "cell_type": "code",
   "execution_count": null,
   "metadata": {},
   "outputs": [],
   "source": [
    "from sklearn.ensemble import RandomForestClassifier\n",
    "from sklearn.model_selection import train_test_split\n",
    "\n",
    "# Split the dataset in an 70/30 train/test ratio. \n",
    "train, test = train_test_split(dataset, test_size=0.3, random_state=2)\n",
    "print(train.shape)\n",
    "print(test.shape)"
   ]
  },
  {
   "attachments": {},
   "cell_type": "markdown",
   "metadata": {},
   "source": [
    "Ahora podemos entrenar nuestro modelo, usando el conjunto de datos de tren que acabamos de crear:"
   ]
  },
  {
   "cell_type": "code",
   "execution_count": null,
   "metadata": {},
   "outputs": [],
   "source": [
    "# Create the model\n",
    "model = RandomForestClassifier(n_estimators=1, random_state=1, verbose=False)\n",
    "\n",
    "# Define which features are to be used (leave color out for now)\n",
    "features = [\"size\", \"roughness\", \"motion\"]\n",
    "\n",
    "# Train the model\n",
    "model.fit(train[features], train.label)\n",
    "\n",
    "print(\"Model trained!\")"
   ]
  },
  {
   "attachments": {},
   "cell_type": "markdown",
   "metadata": {},
   "source": [
    "Evaluando nuestro modelo\n",
    "Ahora podemos usar nuestro modelo recién entrenado para hacer predicciones usando el conjunto de prueba.\n",
    "\n",
    "Al comparar los valores predichos con las etiquetas reales (también llamados valores verdaderos), podemos medir el rendimiento del modelo usando diferentes métricas.\n",
    "\n",
    "La precisión, por ejemplo, es simplemente el número de etiquetas predichas correctamente de todas las predicciones realizadas:"
   ]
  },
  {
   "cell_type": "code",
   "execution_count": null,
   "metadata": {},
   "outputs": [],
   "source": [
    "# Import a function that measures a models accuracy\n",
    "from sklearn.metrics import accuracy_score\n",
    "\n",
    "# Calculate the model's accuracy on the TEST set\n",
    "actual = test.label\n",
    "predictions = model.predict(test[features])\n",
    "\n",
    "# Return accuracy as a fraction\n",
    "acc = accuracy_score(actual, predictions)\n",
    "\n",
    "# Return accuracy as a number of correct predictions\n",
    "acc_norm = accuracy_score(actual, predictions, normalize=False)\n",
    "\n",
    "print(f\"The random forest model's accuracy on the test set is {acc:.4f}.\")\n",
    "print(f\"It correctly predicted {acc_norm} labels in {len(test.label)} predictions.\")"
   ]
  },
  {
   "attachments": {},
   "cell_type": "markdown",
   "metadata": {},
   "source": [
    "¡Nuestro modelo parece estar haciéndolo bastante bien!\n",
    "\n",
    "Esa intuición, sin embargo, puede ser engañosa:\n",
    "\n",
    "La precisión no tiene en cuenta las predicciones erróneas realizadas por el modelo\n",
    "\n",
    "Tampoco es muy bueno para pintar una imagen clara en conjuntos de datos de clases desequilibradas, como el nuestro, donde la cantidad de clases posibles no está distribuida uniformemente (recuerde que tenemos 800 árboles, 800 rocas, pero solo 200 animales)\n",
    "\n",
    "Construyendo una matriz de confusión\n",
    "Una matriz de confusión es una tabla donde comparamos las etiquetas reales con lo que predijo el modelo. Nos da una comprensión más detallada de cómo está funcionando el modelo y dónde está haciendo las cosas bien o fallando.\n",
    "\n",
    "Esta es una de las formas en que podemos hacer eso en el código:"
   ]
  },
  {
   "cell_type": "code",
   "execution_count": null,
   "metadata": {},
   "outputs": [],
   "source": [
    "# sklearn has a very convenient utility to build confusion matrices\n",
    "from sklearn.metrics import confusion_matrix\n",
    "\n",
    "# Build and print our confusion matrix, using the actual values and predictions \n",
    "# from the test set, calculated in previous cells\n",
    "cm = confusion_matrix(actual, predictions, normalize=None)\n",
    "\n",
    "print(\"Confusion matrix for the test set:\")\n",
    "print(cm)\n"
   ]
  },
  {
   "attachments": {},
   "cell_type": "markdown",
   "metadata": {},
   "source": [
    "Si bien la matriz anterior puede ser útil en los cálculos, no es muy útil ni intuitiva.\n",
    "\n",
    "Agreguemos un gráfico con etiquetas y colores para convertir esos datos en información real:"
   ]
  },
  {
   "cell_type": "code",
   "execution_count": null,
   "metadata": {},
   "outputs": [],
   "source": [
    "# We use plotly to create plots and charts\n",
    "import plotly.figure_factory as ff\n",
    "\n",
    "# Create the list of unique labels in the test set, to use in our plot\n",
    "# I.e., ['animal', 'hiker', 'rock', 'tree']\n",
    "x = y = sorted(list(test[\"label\"].unique()))\n",
    "\n",
    "# Plot the matrix above as a heatmap with annotations (values) in its cells\n",
    "fig = ff.create_annotated_heatmap(cm, x, y)\n",
    "\n",
    "# Set titles and ordering\n",
    "fig.update_layout(  title_text=\"<b>Confusion matrix</b>\", \n",
    "                    yaxis = dict(categoryorder = \"category descending\"))\n",
    "\n",
    "fig.add_annotation(dict(font=dict(color=\"black\",size=14),\n",
    "                        x=0.5,\n",
    "                        y=-0.15,\n",
    "                        showarrow=False,\n",
    "                        text=\"Predicted label\",\n",
    "                        xref=\"paper\",\n",
    "                        yref=\"paper\"))\n",
    "\n",
    "fig.add_annotation(dict(font=dict(color=\"black\",size=14),\n",
    "                        x=-0.15,\n",
    "                        y=0.5,\n",
    "                        showarrow=False,\n",
    "                        text=\"Actual label\",\n",
    "                        textangle=-90,\n",
    "                        xref=\"paper\",\n",
    "                        yref=\"paper\"))\n",
    "\n",
    "# We need margins so the titles fit\n",
    "fig.update_layout(margin=dict(t=80, r=20, l=100, b=50))\n",
    "fig['data'][0]['showscale'] = True\n",
    "fig.show()"
   ]
  },
  {
   "attachments": {},
   "cell_type": "markdown",
   "metadata": {},
   "source": [
    "Observe que el gráfico tiene las etiquetas Real en el eje y y las etiquetas Predicho en el eje x, según lo definido por la llamada a la función confusion_matrix.\n",
    "\n",
    "Podemos ver que el modelo es generalmente preciso, pero solo porque tenemos muchas rocas y árboles en nuestro conjunto y porque funciona bien en esas clases.\n",
    "\n",
    "Cuando se trata de excursionistas y animales, el modelo se confunde (muestra una gran cantidad de FP y FN), pero debido a que estas clases están menos representadas en el conjunto de datos, la puntuación de precisión sigue siendo alta.\n",
    "\n",
    "Resumen\n",
    "\n",
    "En este ejercicio hablamos de los siguientes conceptos:\n",
    "\n",
    "Conjuntos de datos desequilibrados, donde las características o clases pueden representarse mediante un número desproporcionado de muestras.<br>\n",
    "La precisión como métrica para evaluar el rendimiento del modelo y sus deficiencias.<br>\n",
    "Cómo generar, graficar e interpretar matrices de confusión, para comprender mejor cómo funciona un modelo de clasificación."
   ]
  }
 ],
 "metadata": {
  "language_info": {
   "name": "python"
  },
  "orig_nbformat": 4
 },
 "nbformat": 4,
 "nbformat_minor": 2
}
