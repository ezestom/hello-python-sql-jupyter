{
 "cells": [
  {
   "attachments": {},
   "cell_type": "markdown",
   "metadata": {},
   "source": [
    "Ejercicio: Conjuntos de datos en Python<br>\n",
    "En el ejercicio anterior, cargamos algunos datos y ajustamos un modelo a ellos. Varios aspectos de esto fueron simplificados, en particular que los datos fueron codificados en nuestro script de Python, y no pasamos ningún tiempo realmente mirando los datos en sí.\n",
    "\n",
    "Aquí, cargaremos los datos de un archivo, los filtraremos y los graficaremos. Hacer esto es un primer paso muy importante para construir modelos adecuados, o para entender sus limitaciones.\n",
    "\n",
    "Como antes, no hay necesidad de editar ningún código en los ejemplos de esta unidad. Intenta leerlo, entenderlo y luego pulsa el botón Ejecutar para ejecutarlo. Como siempre, es de vital importancia que estos bloques de código se ejecuten en el orden correcto, y no se pierda nada.\n",
    "\n",
    "Cargar datos con Pandas<br>\n",
    "Hay una gran variedad de librerías que te ayudan a trabajar con datos. En Python, una de las más comunes es Pandas. Usamos pandas brevemente en el ejercicio anterior. Pandas puede abrir datos guardados como archivos de texto y almacenarlos en una tabla organizada llamada DataFrame.\n",
    "\n",
    "Abramos algunos datos de texto que están almacenados en disco. Nuestros datos están guardados en un archivo llamado doggy-boot-harness.csv."
   ]
  },
  {
   "cell_type": "code",
   "execution_count": null,
   "metadata": {},
   "outputs": [],
   "source": [
    "import pandas\n",
    "!wget https://raw.githubusercontent.com/MicrosoftDocs/mslearn-introduction-to-machine-learning/main/graphing.py\n",
    "!wget https://raw.githubusercontent.com/MicrosoftDocs/mslearn-introduction-to-machine-learning/main/Data/doggy-boot-harness.csv\n",
    "\n",
    "# Read the text file containing data using pandas\n",
    "dataset = pandas.read_csv('doggy-boot-harness.csv')\n",
    "\n",
    "# Print the data\n",
    "# Because there are a lot of data, use head() to only print the first few rows\n",
    "dataset.head()"
   ]
  },
  {
   "attachments": {},
   "cell_type": "markdown",
   "metadata": {},
   "source": [
    "Como puede ver, este conjunto de datos contiene información sobre los perros, incluyendo su talla de bota, talla de arnés, sexo y edad en años.\n",
    "\n",
    "Los datos se almacenan como columnas y filas, de forma similar a una tabla que pueda ver en Excel.\n",
    "\n",
    "Filtrar datos por columnas\n",
    "Es fácil filtrar los datos por columnas. Podemos escribirlo directamente, como conjunto_datos.mi_nombre_columna, o como: conjunto_datos[\"mi_nombre_columna\"].\n",
    "\n",
    "Podemos utilizarlo para extraer o eliminar datos.\n",
    "\n",
    "Echemos un vistazo a los tamaños del arnés y borremos las columnas sexo y edad_años."
   ]
  },
  {
   "cell_type": "code",
   "execution_count": null,
   "metadata": {},
   "outputs": [],
   "source": [
    "\n",
    "# Look at the harness sizes\n",
    "print(\"Harness sizes\")\n",
    "print(dataset.harness_size)\n",
    "\n",
    "# Remove the sex and age-in-years columns.\n",
    "del dataset[\"sex\"]\n",
    "del dataset[\"age_years\"]\n",
    "\n",
    "# Print the column names\n",
    "print(\"\\nAvailable columns after deleting sex and age information:\")\n",
    "print(dataset.columns.values)"
   ]
  },
  {
   "attachments": {},
   "cell_type": "markdown",
   "metadata": {},
   "source": [
    "Filtrar datos por filas<br>\n",
    "Podemos obtener datos de la parte superior de la tabla utilizando la función head(), o de la parte inferior de la tabla utilizando la función tail().\n",
    "\n",
    "Ambas funciones hacen una copia superficial de una sección de nuestro marco de datos. Aquí, estamos enviando estas copias a la función print(). Las vistas head y tail también pueden utilizarse para otros fines, como para su uso en análisis o gráficos."
   ]
  },
  {
   "cell_type": "code",
   "execution_count": null,
   "metadata": {},
   "outputs": [],
   "source": [
    "# Print the data at the top of the table\n",
    "print(\"TOP OF TABLE\")\n",
    "print(dataset.head())\n",
    "\n",
    "# print the data at the bottom of the table\n",
    "print(\"\\nBOTTOM OF TABLE\")\n",
    "print(dataset.tail())"
   ]
  },
  {
   "attachments": {},
   "cell_type": "markdown",
   "metadata": {},
   "source": [
    "También podemos filtrar lógicamente. Por ejemplo, podemos ver los datos de los perros que tienen un arnés inferior a la talla 55. Esto funciona calculando un valor Verdadero o Falso para cada fila y manteniendo sólo las filas en las que el valor es Verdadero.\n",
    "\n",
    "Esto funciona calculando un valor Verdadero o Falso para cada fila y manteniendo sólo las filas en las que el valor es Verdadero."
   ]
  },
  {
   "cell_type": "code",
   "execution_count": null,
   "metadata": {},
   "outputs": [],
   "source": [
    "# Print how many rows of data we have\n",
    "print(f\"We have {len(dataset)} rows of data\")\n",
    "\n",
    "# Determine whether each avalanche dog's harness size is < 55\n",
    "# This creates a True or False value for each row where True means \n",
    "# they are smaller than 55\n",
    "is_small = dataset.harness_size < 55\n",
    "print(\"\\nWhether the dog's harness was smaller than size 55:\")\n",
    "print(is_small)\n",
    "\n",
    "# Now apply this 'mask' to our data to keep the smaller dogs\n",
    "data_from_small_dogs = dataset[is_small]\n",
    "print(\"\\nData for dogs with harness smaller than size 55:\")\n",
    "print(data_from_small_dogs)\n",
    "\n",
    "# Print the number of small dogs\n",
    "print(f\"\\nNumber of dogs with harness size less than 55: {len(data_from_small_dogs)}\")"
   ]
  },
  {
   "attachments": {},
   "cell_type": "markdown",
   "metadata": {},
   "source": [
    "Esto parece mucho código, pero podemos comprimir las partes importantes en una sola línea.\n",
    "\n",
    "Hagamos algo parecido: restrinjamos nuestros datos a solo aquellos con tallas de bota inferiores a 40."
   ]
  },
  {
   "cell_type": "code",
   "execution_count": null,
   "metadata": {},
   "outputs": [],
   "source": [
    "# Make a copy of the dataset that only contains dogs with \n",
    "# a boot size below size 40\n",
    "# The call to copy() is optional but can help avoid unexpected\n",
    "# behaviour in more complex scenarios\n",
    "data_smaller_paws = dataset[dataset.boot_size < 40].copy()\n",
    "\n",
    "\n",
    "# Print information about this\n",
    "print(f\"We now have {len(data_smaller_paws)} rows in our dataset. The last few rows are:\")\n",
    "data_smaller_paws.tail()"
   ]
  },
  {
   "attachments": {},
   "cell_type": "markdown",
   "metadata": {},
   "source": [
    "Graficar datos <br> \n",
    "Graficar datos es a menudo la forma más fácil de entenderlos.\n",
    "\n",
    "En estos ejercicios, normalmente hacemos nuestras gráficas usando código en un archivo personalizado que hemos creado, llamado graphing.py, que puedes ver en nuestra página de github.\n",
    "\n",
    "Aquí, sin embargo, vamos a practicar haciendo un gráfico sin este código personalizado.\n",
    "\n",
    "Vamos a hacer un simple gráfico del tamaño del arnés frente al tamaño de la bota para nuestros perros de avalancha con pies más pequeños."
   ]
  },
  {
   "cell_type": "code",
   "execution_count": null,
   "metadata": {},
   "outputs": [],
   "source": [
    "# Load and prepare plotly to create our graphs\n",
    "import plotly.express\n",
    "import graphing # this is a custom file you can find in our code on github\n",
    "\n",
    "# Show a graph of harness size by boot size:\n",
    "plotly.express.scatter(data_smaller_paws, x=\"harness_size\", y=\"boot_size\")"
   ]
  },
  {
   "attachments": {},
   "cell_type": "markdown",
   "metadata": {},
   "source": [
    "Crear nuevas columnas<br>\n",
    "El gráfico anterior muestra la relación que queremos investigar para nuestra tienda, pero algunos clientes podrían querer listas de tallas de arneses en pulgadas, no en centímetros. ¿Cómo podemos ver estas tallas de arnés en unidades imperiales?\n",
    "\n",
    "Para ello, tendremos que crear una nueva columna llamada tallas_arneses_imperiales y colocarla en el eje X.\n",
    "\n",
    "La creación de nuevas columnas utiliza una sintaxis muy similar a la que hemos visto antes."
   ]
  },
  {
   "cell_type": "code",
   "execution_count": null,
   "metadata": {},
   "outputs": [],
   "source": [
    "# Convert harness sizes from metric to imperial units \n",
    "# and save the result to a new column\n",
    "data_smaller_paws['harness_size_imperial'] = data_smaller_paws.harness_size / 2.54\n",
    "\n",
    "# Show a graph of harness size in imperial units\n",
    "plotly.express.scatter(data_smaller_paws, x=\"harness_size_imperial\", y=\"boot_size\")"
   ]
  },
  {
   "attachments": {},
   "cell_type": "markdown",
   "metadata": {},
   "source": [
    "Ahora hemos graficado nuestra nueva columna de datos (harness_size_imperial) contra el tamaño de la bota para perros con patas pequeñas.\n",
    "\n",
    "Resumen\n",
    "Hemos introducido el trabajo con datos en Python, incluyendo:\n",
    "\n",
    "Abrir datos desde un archivo a un DataFrame (tabla)\n",
    "Inspeccionar la parte superior e inferior del dataframe\n",
    "Añadir y eliminar columnas de datos\n",
    "Eliminar filas de datos basándose en criterios\n",
    "Graficar datos para entender tendencias\n",
    "Aprender a trabajar con marcos de datos puede parecer tedioso o árido, pero sigue adelante, porque estas habilidades básicas son fundamentales para desbloquear emocionantes técnicas de aprendizaje automático que cubriremos en módulos posteriores."
   ]
  }
 ],
 "metadata": {
  "kernelspec": {
   "display_name": "Python 3",
   "language": "python",
   "name": "python3"
  },
  "language_info": {
   "codemirror_mode": {
    "name": "ipython",
    "version": 3
   },
   "file_extension": ".py",
   "mimetype": "text/x-python",
   "name": "python",
   "nbconvert_exporter": "python",
   "pygments_lexer": "ipython3",
   "version": "3.11.2"
  },
  "orig_nbformat": 4
 },
 "nbformat": 4,
 "nbformat_minor": 2
}
