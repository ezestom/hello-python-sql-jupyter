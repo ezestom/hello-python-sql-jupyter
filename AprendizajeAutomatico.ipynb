{
 "cells": [
  {
   "attachments": {},
   "cell_type": "markdown",
   "metadata": {},
   "source": [
    "Ejercicio: Uso de un modelo entrenado con nuevos datos\n",
    "En la Unidad 3, creamos un modelo básico que nos permitía encontrar la relación entre el tamaño del arnés de un perro y el tamaño de sus botas. Mostramos cómo este modelo se podía utilizar para hacer una predicción sobre un perro nuevo, no visto previamente.\n",
    "\n",
    "Es habitual construir, entrenar y luego utilizar un modelo mientras estamos aprendiendo sobre aprendizaje automático; pero en el mundo real, no queremos entrenar el modelo cada vez que queremos hacer una predicción.\n",
    "\n",
    "Consideremos nuestro escenario de la tienda de equipos para avalanchas y perros:\n",
    "\n",
    "Queremos entrenar el modelo una sola vez y luego cargarlo en el servidor que gestiona nuestra tienda online.\n",
    "Aunque el modelo se ha entrenado en un conjunto de datos que hemos descargado de Internet, en realidad queremos utilizarlo para estimar el tamaño de las botas de los perros de nuestros clientes que no están en este conjunto de datos.\n",
    "¿Cómo podemos hacerlo?\n",
    "\n",
    "Vamos a\n",
    "\n",
    "Crearemos un modelo básico\n",
    "Guardarlo en el disco\n",
    "Cargarlo desde el disco\n",
    "Utilizarlo para hacer predicciones sobre un perro que no estaba en el conjunto de datos de entrenamiento.\n",
    "Cargar el conjunto de datos\n",
    "Empecemos abriendo el conjunto de datos desde el archivo."
   ]
  },
  {
   "cell_type": "code",
   "execution_count": null,
   "metadata": {},
   "outputs": [],
   "source": [
    "import pandas\n",
    "!pip install statsmodels\n",
    "!wget https://raw.githubusercontent.com/MicrosoftDocs/mslearn-introduction-to-machine-learning/main/graphing.py\n",
    "!wget https://raw.githubusercontent.com/MicrosoftDocs/mslearn-introduction-to-machine-learning/main/Data/doggy-boot-harness.csv\n",
    "\n",
    "# Load a file containing dog's boot and harness sizes\n",
    "data = pandas.read_csv('doggy-boot-harness.csv')\n",
    "\n",
    "# Print the first few rows\n",
    "data.head()"
   ]
  },
  {
   "attachments": {},
   "cell_type": "markdown",
   "metadata": {},
   "source": [
    "Crear y entrenar un modelo\n",
    "Como hemos hecho antes, crearemos un modelo de regresión lineal simple y lo entrenaremos en nuestro conjunto de datos."
   ]
  },
  {
   "cell_type": "code",
   "execution_count": null,
   "metadata": {},
   "outputs": [],
   "source": [
    "import statsmodels.formula.api as smf\n",
    "\n",
    "# Fit a simple model that finds a linear relationship\n",
    "# between boot size and harness size, which we can use later\n",
    "# to predict a dog's boot size, given their harness size\n",
    "model = smf.ols(formula = \"boot_size ~ harness_size\", data = data).fit()\n",
    "\n",
    "print(\"Model trained!\")"
   ]
  },
  {
   "attachments": {},
   "cell_type": "markdown",
   "metadata": {},
   "source": [
    "Guardar y cargar un modelo\n",
    "Nuestro modelo está listo para ser utilizado, pero aún no lo necesitamos. Guardémoslo en el disco."
   ]
  },
  {
   "cell_type": "code",
   "execution_count": null,
   "metadata": {},
   "outputs": [],
   "source": [
    "import joblib\n",
    "\n",
    "model_filename = './avalanche_dog_boot_model.pkl'\n",
    "joblib.dump(model, model_filename)\n",
    "\n",
    "print(\"Model saved!\")"
   ]
  },
  {
   "cell_type": "code",
   "execution_count": null,
   "metadata": {},
   "outputs": [],
   "source": [
    "model_loaded = joblib.load(model_filename)\n",
    "\n",
    "print(\"We have loaded a model with the following parameters:\")\n",
    "print(model_loaded.params)"
   ]
  },
  {
   "attachments": {},
   "cell_type": "markdown",
   "metadata": {},
   "source": [
    "Ponerlo todo junto\n",
    "En nuestro sitio web, vamos a querer tomar el arnés del perro de nuestro cliente, a continuación, calcular el tamaño de la bota de su perro utilizando el modelo que ya hemos entrenado.\n",
    "\n",
    "Pongamos todo junto para hacer una función que cargue el modelo desde el disco, y lo utilice para predecir la altura de la bota de nuestro cliente."
   ]
  },
  {
   "cell_type": "code",
   "execution_count": null,
   "metadata": {},
   "outputs": [],
   "source": [
    "# Let's write a function that loads and uses our model\n",
    "def load_model_and_predict(harness_size):\n",
    "    '''\n",
    "    This function loads a pretrained model. It uses the model\n",
    "    with the customer's dog's harness size to predict the size of\n",
    "    boots that will fit that dog.\n",
    "\n",
    "    harness_size: The dog harness size, in cm \n",
    "    '''\n",
    "\n",
    "    # Load the model from file and print basic information about it\n",
    "    loaded_model = joblib.load(model_filename)\n",
    "\n",
    "    print(\"We've loaded a model with the following parameters:\")\n",
    "    print(loaded_model.params)\n",
    "\n",
    "    # Prepare data for the model\n",
    "    inputs = {\"harness_size\":[harness_size]} \n",
    "\n",
    "    # Use the model to make a prediction\n",
    "    predicted_boot_size = loaded_model.predict(inputs)[0]\n",
    "\n",
    "    return predicted_boot_size\n",
    "\n",
    "# Practice using our model\n",
    "predicted_boot_size = load_model_and_predict(45)\n",
    "\n",
    "print(\"Predicted dog boot size:\", predicted_boot_size)"
   ]
  },
  {
   "attachments": {},
   "cell_type": "markdown",
   "metadata": {},
   "source": [
    "Uso en el mundo real,\n",
    "Lo hemos conseguido; podemos predecir la talla de las botas de un perro de avalancha basándonos en la talla de su arnés. Nuestro último paso es utilizar esto para advertir a la gente si pueden estar comprando botas de perro de tamaño incorrecto.\n",
    "\n",
    "Como ejemplo, haremos una función que acepte la talla del arnés, la talla de las botas seleccionadas y devuelva un mensaje para el cliente. Integraríamos esta función en nuestra tienda online."
   ]
  },
  {
   "cell_type": "code",
   "execution_count": null,
   "metadata": {},
   "outputs": [],
   "source": [
    "def check_size_of_boots(selected_harness_size, selected_boot_size):\n",
    "    '''\n",
    "    Calculates whether the customer has chosen a pair of doggy boots that \n",
    "    are a sensible size. This works by estimating the dog's actual boot \n",
    "    size from their harness size.\n",
    "\n",
    "    This returns a message for the customer that should be shown before\n",
    "    they complete their payment \n",
    "\n",
    "    selected_harness_size: The size of the harness the customer wants to buy\n",
    "    selected_boot_size: The size of the doggy boots the customer wants to buy\n",
    "    '''\n",
    "\n",
    "    # Estimate the customer's dog's boot size\n",
    "    estimated_boot_size = load_model_and_predict(selected_harness_size)\n",
    "\n",
    "    # Round to the nearest whole number because we don't sell partial sizes\n",
    "    estimated_boot_size = int(round(estimated_boot_size))\n",
    "\n",
    "    # Check if the boot size selected is appropriate\n",
    "    if selected_boot_size == estimated_boot_size:\n",
    "        # The selected boots are probably OK\n",
    "        return f\"Great choice! We think these boots will fit your avalanche dog well.\"\n",
    "\n",
    "    if selected_boot_size < estimated_boot_size:\n",
    "        # Selected boots might be too small \n",
    "        return \"The boots you have selected might be TOO SMALL for a dog as \"\\\n",
    "               f\"big as yours. We recommend a doggy boots size of {estimated_boot_size}.\"\n",
    "\n",
    "    if selected_boot_size > estimated_boot_size:\n",
    "        # Selected boots might be too big \n",
    "        return \"The boots you have selected might be TOO BIG for a dog as \"\\\n",
    "               f\"small as yours. We recommend a doggy boots size of {estimated_boot_size}.\"\n",
    "    \n",
    "\n",
    "# Practice using our new warning system\n",
    "check_size_of_boots(selected_harness_size=55, selected_boot_size=39)"
   ]
  },
  {
   "attachments": {},
   "cell_type": "markdown",
   "metadata": {},
   "source": [
    "Cambie selected_harness_size y selected_boot_size en el ejemplo anterior y vuelva a ejecutar la celda para ver esto en acción.\n",
    "\n",
    "Resumen\n",
    "Muy bien hecho. Hemos creado un sistema que puede predecir si los clientes están comprando botas para perros que pueden no ajustarse a su perro de avalancha, basándose únicamente en el tamaño del arnés que están comprando.\n",
    "\n",
    "En este ejercicio, hemos practicado <br>\n",
    "\n",
    "Creación de modelos básicos <br>\n",
    "Entrenándolos y guardándolos en disco <br>\n",
    "Cargarlos desde el disco <br>\n",
    "Hacer predicciones con ellos utilizando nuevos conjuntos de datos"
   ]
  }
 ],
 "metadata": {
  "language_info": {
   "name": "python"
  },
  "orig_nbformat": 4
 },
 "nbformat": 4,
 "nbformat_minor": 2
}
