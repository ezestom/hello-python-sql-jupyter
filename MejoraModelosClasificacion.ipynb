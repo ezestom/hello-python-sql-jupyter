{
 "cells": [
  {
   "attachments": {},
   "cell_type": "markdown",
   "metadata": {},
   "source": [
    "Ejercicio: Mejora de un modelo de regresión logística\n",
    "\n",
    "En el ejercicio anterior, ajustamos un modelo de regresión logística simple para predecir la posibilidad de una avalancha. Esta vez, mejoraremos su rendimiento mediante el uso inteligente de múltiples funciones.\n",
    "\n",
    "Visualización de datos\n",
    "Carguemos nuestros datos."
   ]
  },
  {
   "cell_type": "code",
   "execution_count": null,
   "metadata": {},
   "outputs": [],
   "source": [
    "import pandas\n",
    "!pip install statsmodels\n",
    "!wget https://raw.githubusercontent.com/MicrosoftDocs/mslearn-introduction-to-machine-learning/main/graphing.py\n",
    "!wget https://raw.githubusercontent.com/MicrosoftDocs/mslearn-introduction-to-machine-learning/main/Data/avalanche.csv\n",
    "import graphing # custom graphing code. See our GitHub repo for details\n",
    "\n",
    "#Import the data from the .csv file\n",
    "dataset = pandas.read_csv('avalanche.csv', delimiter=\"\\t\", index_col=0)\n",
    "\n",
    "# Split our data into training and test\n",
    "import sklearn.model_selection\n",
    "train, test = sklearn.model_selection.train_test_split(dataset, test_size=0.25, random_state=10)\n",
    "\n",
    "print(\"Train size:\", train.shape[0])\n",
    "print(\"Test size:\", test.shape[0])\n",
    "\n",
    "#Let's have a look at the data\n",
    "print(train.head())"
   ]
  },
  {
   "attachments": {},
   "cell_type": "markdown",
   "metadata": {},
   "source": [
    "Tenemos numerosas características disponibles:\n",
    "\n",
    "surface_hoar es cuán perturbada está la superficie de la nieve\n",
    "fresh_thickness es el grosor de la capa superior de nieve, o 0 si no hay nieve fresca encima\n",
    "viento es la velocidad máxima del viento ese día, en km/h\n",
    "débil_capas es el número de capas de nieve que no están bien unidas a otras capas\n",
    "no_visitors es el número de excursionistas que estuvieron en el sendero ese día\n",
    "tracked_out es un 1 o un 0. Un 1 significa que la nieve ha sido pisoteada fuertemente por los excursionistas\n",
    "Regresión logística simple\n",
    "Hagamos un modelo de regresión logística simple y evalúemos su desempeño con precisión."
   ]
  },
  {
   "cell_type": "code",
   "execution_count": null,
   "metadata": {},
   "outputs": [],
   "source": [
    "import sklearn\n",
    "from sklearn.metrics import accuracy_score\n",
    "import statsmodels.formula.api as smf\n",
    "\n",
    "# Perform logistic regression.\n",
    "model = smf.logit(\"avalanche ~ weak_layers\", train).fit()\n",
    "\n",
    "# Calculate accuracy\n",
    "def calculate_accuracy(model):\n",
    "    '''\n",
    "    Calculates accuracy\n",
    "    '''\n",
    "    # Make estimations and convert to categories\n",
    "    avalanche_predicted = model.predict(test) > 0.5\n",
    "\n",
    "    # Calculate what proportion were predicted correctly\n",
    "    # We can use sklearn to calculate accuracy for us\n",
    "    print(\"Accuracy:\", accuracy_score(test.avalanche, avalanche_predicted))\n",
    "\n",
    "calculate_accuracy(model)"
   ]
  },
  {
   "attachments": {},
   "cell_type": "markdown",
   "metadata": {},
   "source": [
    "Veamos cómo podemos mejorar nuestro modelo.\n",
    "\n",
    "Utilizando múltiples características\n",
    "La mayoría de nuestras funciones parecen ser útiles, al menos en teoría. Probemos un modelo con todas las características que tenemos disponibles."
   ]
  },
  {
   "cell_type": "code",
   "execution_count": null,
   "metadata": {},
   "outputs": [],
   "source": [
    "# Perform logistic regression.\n",
    "model_all_features = smf.logit(\"avalanche ~ weak_layers + surface_hoar + fresh_thickness + wind + no_visitors + tracked_out\", train).fit()\n",
    "calculate_accuracy(model_all_features)"
   ]
  },
  {
   "attachments": {},
   "cell_type": "markdown",
   "metadata": {},
   "source": [
    "Esa es una gran mejora con respecto al modelo más simple con el que hemos estado trabajando.\n",
    "\n",
    "Para entender por qué, podemos mirar la información resumida"
   ]
  },
  {
   "cell_type": "code",
   "execution_count": null,
   "metadata": {},
   "outputs": [],
   "source": [
    "model_all_features.summary()"
   ]
  },
  {
   "attachments": {},
   "cell_type": "markdown",
   "metadata": {},
   "source": [
    "Eche un vistazo a la columna P y recuerde que los valores inferiores a 0,05 significan que podemos estar seguros de que este parámetro está ayudando al modelo a realizar mejores predicciones.\n",
    "\n",
    "Tanto surface_hoar como wind tienen valores muy pequeños aquí, lo que significa que son predictores útiles y probablemente explican por qué nuestro modelo funciona mejor. Si miramos la columna coef (que indica los parámetros) vemos que estos tienen valores positivos. Esto significa que los vientos más fuertes y una mayor cantidad de capa superficial dan como resultado un mayor riesgo de avalanchas.\n",
    "\n",
    "Simplificando nuestro modelo\n",
    "Mirando el resumen nuevamente, podemos ver que tracked_out (cuán pisoteada está la nieve) y fresh_thickness tienen valores p grandes. Esto significa que no son predictores útiles. Veamos qué pasa si los eliminamos de nuestro modelo:"
   ]
  },
  {
   "cell_type": "code",
   "execution_count": null,
   "metadata": {},
   "outputs": [],
   "source": [
    "# Perform logistic regression.\n",
    "model_simplified = smf.logit(\"avalanche ~ weak_layers + surface_hoar + wind + no_visitors\", train).fit()\n",
    "calculate_accuracy(model_simplified)"
   ]
  },
  {
   "attachments": {},
   "cell_type": "markdown",
   "metadata": {},
   "source": [
    "¡Nuestro nuevo modelo funciona de manera muy similar al anterior! En algunas circunstancias, simplificar un modelo como este puede incluso mejorarlo, ya que es menos probable que se sobreajuste.\n",
    "\n",
    "Selección cuidadosa de características\n",
    "Por lo general, no elegimos características a ciegas. Pensemos en lo que acabamos de hacer: eliminamos la cantidad de nieve fresca que había en un modelo, tratando de predecir avalanchas. Algo parece estar mal. ¿Seguramente las avalanchas son mucho más probables después de que haya nevado? De manera similar, la cantidad de personas en la pista parece no estar relacionada con la cantidad de avalanchas que hubo, pero sabemos que las personas a menudo pueden desencadenar avalanchas.\n",
    "\n",
    "Repasemos de nuevo nuestro modelo anterior:"
   ]
  },
  {
   "cell_type": "code",
   "execution_count": null,
   "metadata": {},
   "outputs": [],
   "source": [
    "model_all_features.summary()"
   ]
  },
  {
   "attachments": {},
   "cell_type": "markdown",
   "metadata": {},
   "source": [
    "Mire la fila fresh_thickness. Se nos dice que tiene un coeficiente negativo. Esto significa que a medida que aumenta el espesor, disminuyen las avalanchas.\n",
    "\n",
    "De manera similar, no_visitors tiene un coeficiente negativo, lo que significa que menos excursionistas significan más avalanchas.\n",
    "\n",
    "¿Cómo puede ser esto? Bueno, mientras que los visitantes pueden causar avalanchas si hay mucha nieve fresca, presumiblemente no pueden hacerlo tan fácilmente si no hay nieve fresca. Esto significa que nuestras características no son completamente independientes.\n",
    "\n",
    "Podemos decirle al modelo que intente tener en cuenta que estas características interactúan, usando un signo de multiplicación. Probemos eso ahora."
   ]
  },
  {
   "cell_type": "code",
   "execution_count": null,
   "metadata": {},
   "outputs": [],
   "source": [
    "# Create a model with an interaction. Notice the end of the string where\n",
    "# we've a multiply sign between no_visitors and fresh_thickness\n",
    "formula = \"avalanche ~ weak_layers + surface_hoar + wind + no_visitors * fresh_thickness\"\n",
    "model_with_interaction = smf.logit(formula, train).fit()\n",
    "calculate_accuracy(model_with_interaction)"
   ]
  },
  {
   "attachments": {},
   "cell_type": "markdown",
   "metadata": {},
   "source": [
    "¡El modelo ha mejorado hasta un 84 % de precisión! Veamos la información resumida:"
   ]
  },
  {
   "cell_type": "code",
   "execution_count": null,
   "metadata": {},
   "outputs": [],
   "source": [
    "model_with_interaction.summary()"
   ]
  },
  {
   "attachments": {},
   "cell_type": "markdown",
   "metadata": {},
   "source": [
    "Podemos ver que el término de interacción es útil: el valor p es inferior a 0,05. El modelo también está funcionando mejor que nuestros intentos anteriores.\n",
    "\n",
    "Hacer predicciones con múltiples características\n",
    "Muy rápidamente, exploremos lo que significa esta interacción observando las predicciones del modelo.\n",
    "\n",
    "Primero graficaremos dos características independientes en 3D. Comencemos con las capas débiles y el viento:"
   ]
  },
  {
   "cell_type": "code",
   "execution_count": null,
   "metadata": {},
   "outputs": [],
   "source": [
    "graphing.model_to_surface_plot(model_with_interaction, [\"weak_layers\", \"wind\"], test)"
   ]
  },
  {
   "attachments": {},
   "cell_type": "markdown",
   "metadata": {},
   "source": [
    "El gráfico es interactivo: gírelo y explore cómo existe una relación clara en forma de S entre las características y la probabilidad.\n",
    "\n",
    "Veamos ahora las características que hemos dicho que pueden interactuar:"
   ]
  },
  {
   "cell_type": "code",
   "execution_count": null,
   "metadata": {},
   "outputs": [],
   "source": [
    "graphing.model_to_surface_plot(model_with_interaction, [\"no_visitors\", \"fresh_thickness\"], test)"
   ]
  },
  {
   "attachments": {},
   "cell_type": "markdown",
   "metadata": {},
   "source": [
    "¡Se ve bastante diferente al otro! Desde cualquier lado, podemos ver una forma de S, pero se combinan de formas extrañas.\n",
    "\n",
    "Podemos ver que el riesgo aumenta en los días con muchos visitantes y mucha nieve. No existe un riesgo real de avalancha cuando hay mucha nieve pero no hay visitantes, o cuando hay muchos visitantes pero no hay nieve.\n",
    "\n",
    "El hecho de que muestre un alto riesgo cuando no hay nieve fresca y no hay visitantes podría deberse a la lluvia, que mantiene alejados a los visitantes y las nubes de nieve, pero da como resultado avalanchas de la nieve más vieja. Para confirmar esto, necesitaríamos explorar los datos con mayor profundidad, pero nos detendremos aquí por ahora.\n",
    "\n",
    "Resumen<br>\n",
    "¡Bien hecho! Recapitulemos. hemos:\n",
    "\n",
    "mejorado nuestro modelo simple agregando más funciones.<br>\n",
    "practicó la interpretación de los coeficientes (parámetros) de nuestro modelo a partir del resumen del modelo<br>\n",
    "eliminado características innecesarias<br>\n",
    "exploró cómo a veces es importante pensar en lo que realmente significan sus datos<br>\n",
    "creó un modelo que combinó características para dar un resultado superior"
   ]
  }
 ],
 "metadata": {
  "language_info": {
   "name": "python"
  },
  "orig_nbformat": 4
 },
 "nbformat": 4,
 "nbformat_minor": 2
}
